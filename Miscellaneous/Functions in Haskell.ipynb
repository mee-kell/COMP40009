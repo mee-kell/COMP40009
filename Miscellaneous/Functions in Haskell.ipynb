{
 "cells": [
  {
   "cell_type": "markdown",
   "source": [
    "# 2. Functions\n",
    "\n",
    "> **Recap from last session**: prefix and infix functions, left and right associativity of operators, conditional expressions, finding and forcing types, tuples, lists, `let... in...`, arithmetic sequences, list comprehensions, pattern matching\n",
    "\n",
    "\n",
    "_Remember to complete the Haskell Sequences assignment on Friday (tomorrow) on CATe!_"
   ],
   "metadata": {}
  },
  {
   "cell_type": "markdown",
   "source": [
    "A function is a rule for associating each element of a source type A with a unique member of a target type B.\n",
    "* `f :: A -> B`\n",
    "* `f` will take an argument of type `A` and return a result of type `B`\n",
    "* May take several arguments: types are listed in sequence\n",
    "    * E.g. inputs A, B and C are defined as `g :: A -> B -> C -> D`, gives output D\n",
    "    * Giving 'multiple' outputs: wrap into one tuple\n",
    "\n",
    "A rule has a left-hand side (arguments) and a right-hand side (expression)."
   ],
   "metadata": {}
  },
  {
   "cell_type": "code",
   "execution_count": null,
   "source": [
    "-- Define the I/O types\n",
    "successor :: Int -> Int\n",
    "-- Name the function and its input var\n",
    "successor x \n",
    "-- Define the output expression\n",
    "    = x + 1"
   ],
   "outputs": [],
   "metadata": {}
  },
  {
   "cell_type": "markdown",
   "source": [
    "More examples of functions\n",
    "* `magnitude` generates the magnitude of a given vector\n",
    "* `isUpper` checks if a character is an upper case letter\n",
    "* `even` checks if a number is even"
   ],
   "metadata": {}
  },
  {
   "cell_type": "code",
   "execution_count": 1,
   "source": [
    "magnitude :: (Float, Float) --> Float\n",
    "magnitude (x, y)\n",
    "    = sqrt (x^2 + y^2)\n",
    "\n",
    "isUpper :: Char --> Bool\n",
    "isUpper ch\n",
    "    = ch >= 'A' && ch <= 'Z'\n",
    "\n",
    "even :: Int --> Bool\n",
    "even x\n",
    "    = x `mod` 2 == 0"
   ],
   "outputs": [
    {
     "output_type": "error",
     "ename": "SyntaxError",
     "evalue": "invalid syntax (150705866.py, line 1)",
     "traceback": [
      "\u001b[0;36m  File \u001b[0;32m\"/var/folders/p_/zl8q73md4vgb11fc063_516h0000gn/T/ipykernel_41995/150705866.py\"\u001b[0;36m, line \u001b[0;32m1\u001b[0m\n\u001b[0;31m    magnitude :: (Float, Float) --> Float\u001b[0m\n\u001b[0m               ^\u001b[0m\n\u001b[0;31mSyntaxError\u001b[0m\u001b[0;31m:\u001b[0m invalid syntax\n"
     ]
    }
   ],
   "metadata": {}
  }
 ],
 "metadata": {
  "orig_nbformat": 4,
  "language_info": {
   "name": "python",
   "version": "3.8.3",
   "mimetype": "text/x-python",
   "codemirror_mode": {
    "name": "ipython",
    "version": 3
   },
   "pygments_lexer": "ipython3",
   "nbconvert_exporter": "python",
   "file_extension": ".py"
  },
  "kernelspec": {
   "name": "python3",
   "display_name": "Python 3.8.3 64-bit"
  },
  "interpreter": {
   "hash": "aee8b7b246df8f9039afb4144a1f6fd8d2ca17a180786b69acc140d282b71a49"
  }
 },
 "nbformat": 4,
 "nbformat_minor": 2
}