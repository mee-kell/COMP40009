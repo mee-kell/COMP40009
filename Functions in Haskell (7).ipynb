{
 "cells": [
  {
   "cell_type": "markdown",
   "metadata": {},
   "source": [
    "# 2. Functions in Haskell\n",
    "**7 October 2021**\n",
    "\n",
    "> **Recap from last session**: prefix and infix functions, left and right associativity of operators, conditional expressions, finding and forcing types, tuples, lists, `let... in...`, arithmetic sequences, list comprehensions, pattern matching\n",
    "\n",
    "\n",
    "_Remember to complete the Haskell Sequences assignment on Friday (tomorrow) on CATe!_"
   ]
  },
  {
   "cell_type": "markdown",
   "metadata": {},
   "source": [
    "## Defining functions\n",
    "\n",
    "A function is a rule for associating each element of a source type A with a unique member of a target type B.\n",
    "* `f :: A -> B`\n",
    "* `f` will take an argument of type `A` and return a result of type `B`\n",
    "* May take several arguments: types are listed in sequence\n",
    "    * E.g. inputs A, B and C are defined as `g :: A -> B -> C -> D`, gives output D\n",
    "    * Giving 'multiple' outputs: wrap into one tuple\n",
    "\n",
    "A rule has a left-hand side (arguments) and a right-hand side (expression)."
   ]
  },
  {
   "cell_type": "code",
   "execution_count": 4,
   "metadata": {},
   "outputs": [],
   "source": [
    "-- Define the I/O types\n",
    "successor :: Int -> Int\n",
    "-- Name the function and its input var\n",
    "successor x \n",
    "-- Define the output expression (indent)\n",
    "    = x + 1"
   ]
  },
  {
   "cell_type": "markdown",
   "metadata": {},
   "source": [
    "More examples of functions\n",
    "* `magnitude` generates the magnitude of a given vector\n",
    "* `isUpper` checks if a character is an upper case letter\n",
    "* `even` checks if a number is even"
   ]
  },
  {
   "cell_type": "code",
   "execution_count": 7,
   "metadata": {},
   "outputs": [
    {
     "data": {
      "text/html": [
       "<style>/* Styles used for the Hoogle display in the pager */\n",
       ".hoogle-doc {\n",
       "display: block;\n",
       "padding-bottom: 1.3em;\n",
       "padding-left: 0.4em;\n",
       "}\n",
       ".hoogle-code {\n",
       "display: block;\n",
       "font-family: monospace;\n",
       "white-space: pre;\n",
       "}\n",
       ".hoogle-text {\n",
       "display: block;\n",
       "}\n",
       ".hoogle-name {\n",
       "color: green;\n",
       "font-weight: bold;\n",
       "}\n",
       ".hoogle-head {\n",
       "font-weight: bold;\n",
       "}\n",
       ".hoogle-sub {\n",
       "display: block;\n",
       "margin-left: 0.4em;\n",
       "}\n",
       ".hoogle-package {\n",
       "font-weight: bold;\n",
       "font-style: italic;\n",
       "}\n",
       ".hoogle-module {\n",
       "font-weight: bold;\n",
       "}\n",
       ".hoogle-class {\n",
       "font-weight: bold;\n",
       "}\n",
       ".get-type {\n",
       "color: green;\n",
       "font-weight: bold;\n",
       "font-family: monospace;\n",
       "display: block;\n",
       "white-space: pre-wrap;\n",
       "}\n",
       ".show-type {\n",
       "color: green;\n",
       "font-weight: bold;\n",
       "font-family: monospace;\n",
       "margin-left: 1em;\n",
       "}\n",
       ".mono {\n",
       "font-family: monospace;\n",
       "display: block;\n",
       "}\n",
       ".err-msg {\n",
       "color: red;\n",
       "font-style: italic;\n",
       "font-family: monospace;\n",
       "white-space: pre;\n",
       "display: block;\n",
       "}\n",
       "#unshowable {\n",
       "color: red;\n",
       "font-weight: bold;\n",
       "}\n",
       ".err-msg.in.collapse {\n",
       "padding-top: 0.7em;\n",
       "}\n",
       ".highlight-code {\n",
       "white-space: pre;\n",
       "font-family: monospace;\n",
       "}\n",
       ".suggestion-warning { \n",
       "font-weight: bold;\n",
       "color: rgb(200, 130, 0);\n",
       "}\n",
       ".suggestion-error { \n",
       "font-weight: bold;\n",
       "color: red;\n",
       "}\n",
       ".suggestion-name {\n",
       "font-weight: bold;\n",
       "}\n",
       "</style><div class=\"suggestion-name\" style=\"clear:both;\">Use isAsciiUpper</div><div class=\"suggestion-row\" style=\"float: left;\"><div class=\"suggestion-warning\">Found:</div><div class=\"highlight-code\" id=\"haskell\">ch >= 'A' && ch <= 'Z'</div></div><div class=\"suggestion-row\" style=\"float: left;\"><div class=\"suggestion-warning\">Why Not:</div><div class=\"highlight-code\" id=\"haskell\">isAsciiUpper ch</div></div><div class=\"suggestion-name\" style=\"clear:both;\">Use even</div><div class=\"suggestion-row\" style=\"float: left;\"><div class=\"suggestion-warning\">Found:</div><div class=\"highlight-code\" id=\"haskell\">x `mod` 2 == 0</div></div><div class=\"suggestion-row\" style=\"float: left;\"><div class=\"suggestion-warning\">Why Not:</div><div class=\"highlight-code\" id=\"haskell\">even x</div></div>"
      ],
      "text/plain": [
       "Line 7: Use isAsciiUpper\n",
       "Found:\n",
       "ch >= 'A' && ch <= 'Z'\n",
       "Why not:\n",
       "isAsciiUpper chLine 11: Use even\n",
       "Found:\n",
       "x `mod` 2 == 0\n",
       "Why not:\n",
       "even x"
      ]
     },
     "metadata": {},
     "output_type": "display_data"
    }
   ],
   "source": [
    "magnitude :: (Float, Float) -> Float\n",
    "magnitude (x, y)\n",
    "    = sqrt (x^2 + y^2)\n",
    "\n",
    "isUpper :: Char -> Bool\n",
    "isUpper ch\n",
    "    = ch >= 'A' && ch <= 'Z'\n",
    "\n",
    "isEven :: Int -> Bool\n",
    "isEven x\n",
    "    = x `mod` 2 == 0"
   ]
  },
  {
   "cell_type": "markdown",
   "metadata": {},
   "source": [
    "* There may be constraints on what the function can take as arguments\n",
    "    * Ideally try to prevent invalid arguments or state a precondition\n",
    "* Use comments to specify preconditions in annotations\n",
    "    * But use comments sparingly and wisely!"
   ]
  },
  {
   "cell_type": "markdown",
   "metadata": {},
   "source": [
    "Apply functions by the juxtaposition `f a`."
   ]
  },
  {
   "cell_type": "code",
   "execution_count": 9,
   "metadata": {},
   "outputs": [
    {
     "data": {
      "text/plain": [
       "6"
      ]
     },
     "metadata": {},
     "output_type": "display_data"
    },
    {
     "data": {
      "text/plain": [
       "14.764823"
      ]
     },
     "metadata": {},
     "output_type": "display_data"
    },
    {
     "data": {
      "text/plain": [
       "False"
      ]
     },
     "metadata": {},
     "output_type": "display_data"
    },
    {
     "data": {
      "text/plain": [
       "True"
      ]
     },
     "metadata": {},
     "output_type": "display_data"
    },
    {
     "data": {
      "text/plain": [
       "True"
      ]
     },
     "metadata": {},
     "output_type": "display_data"
    }
   ],
   "source": [
    "successor 5\n",
    "magnitude (13, 7)\n",
    "isUpper 'g'\n",
    "isEven 16\n",
    "\n",
    "-- Composite functions\n",
    "isEven (successor 19)"
   ]
  },
  {
   "cell_type": "markdown",
   "metadata": {},
   "source": [
    "## Guarded Rules\n",
    "\n",
    "Rules (functions) can contain guards which generalise conditionals.\n",
    "* `| predicate = true output`\n",
    "* `| otherwise = false output`"
   ]
  },
  {
   "cell_type": "code",
   "execution_count": 11,
   "metadata": {},
   "outputs": [],
   "source": [
    "difference :: Float -> Float -> Float\n",
    "difference x y\n",
    "    | x >= y    = x -y\n",
    "    | otherwise = y - x\n",
    "    \n",
    "signum :: Int -> Int\n",
    "signum n\n",
    "    | n < 0     = -1\n",
    "    | n == 0    = 0\n",
    "    | otherwise = 1"
   ]
  },
  {
   "cell_type": "markdown",
   "metadata": {},
   "source": [
    "Guards are evaluated from top to bottom.\n",
    "* If guard condition is true: evaluate right expression\n",
    "* If guard condition is false: proceed to next guard\n",
    "* Run out of guards: move to the next rule in the function if it exists\n",
    "* Run out of rules: error! \n",
    "    * Function is partial (not defined for entire domain\n",
    "\n",
    "Definition of `otherwise`: default return value, same as `True`"
   ]
  },
  {
   "cell_type": "markdown",
   "metadata": {},
   "source": [
    "## Local definitions\n",
    "\n",
    "* `let` expressions introduce definitions local to an expression\n",
    "* `where` clauses introduce definitions local to a rule\n",
    "    * Set of definitions must be on the right hand side\n",
    "    * This can only exist in a function"
   ]
  },
  {
   "cell_type": "code",
   "execution_count": 1,
   "metadata": {},
   "outputs": [],
   "source": [
    "turns :: Float -> Float -> Float -> Float\n",
    "turns start end r\n",
    "    = totalDistance / distancePerTurn\n",
    "      where\n",
    "        totalDistance   = kmToMetres * (end - start)\n",
    "        distancePerTurn = 2 * pi * r\n",
    "        kmToMetres      = 1000"
   ]
  },
  {
   "cell_type": "markdown",
   "metadata": {},
   "source": [
    "`where` clauses are useful for breaking down functions into simpler components, avoiding repetition and pattern matching."
   ]
  },
  {
   "cell_type": "code",
   "execution_count": 2,
   "metadata": {},
   "outputs": [],
   "source": [
    "normalise :: (Float, Float) -> (Float, Float)\n",
    "-- In this case, sqrt is only evaluated once :)\n",
    "normalise (x, y)\n",
    "    = (x / m, y / m)\n",
    "    where\n",
    "        m = sqrt (x^2 + y^2)"
   ]
  },
  {
   "cell_type": "code",
   "execution_count": null,
   "metadata": {},
   "outputs": [],
   "source": [
    "quotrem :: Int -> Int -> (Int, Int)\n",
    "quotrem x y = (x `div` y, x `mod` y)\n",
    "\n",
    "-- Converts distance in yards to miles, furloughs, yards\n",
    "-- Pattern matching is useful here to avoid repetition\n",
    "racelength :: Int -> (Int, Int, Int)\n",
    "racelength y\n",
    "    = (m, f, y'')\n",
    "    where\n",
    "        (m, y') = quotrem y 1760\n",
    "        (f, y'') = quotrem y' 220"
   ]
  },
  {
   "cell_type": "markdown",
   "metadata": {},
   "source": [
    "* You can define local functions too\n",
    "    * Local functions cannot be anywhere else in the program\n",
    "    * Order doesn't really matter (unless we're considering recursion, see next time :))"
   ]
  },
  {
   "cell_type": "code",
   "execution_count": 4,
   "metadata": {},
   "outputs": [],
   "source": [
    "raceLength :: Int -> (Int, Int, Int)\n",
    "raceLength y\n",
    "    = (m, f, y'')\n",
    "    where\n",
    "        (m, y') = quotrem y 1760\n",
    "        (f, y'') = quotrem y' 220\n",
    "        \n",
    "        -- Type signatures in local functions aren't necessary, but are recommended at this stage\n",
    "        quotrem :: Int -> Int -> (Int, Int)\n",
    "        quotrem x y = (x `div` y, x `mod` y)"
   ]
  },
  {
   "cell_type": "markdown",
   "metadata": {},
   "source": [
    "* Type synonyms: naming types\n",
    "    * Not defining a new type, just naming existing ones\n",
    "    * Start with a capital letter, aid readability"
   ]
  },
  {
   "cell_type": "code",
   "execution_count": 8,
   "metadata": {},
   "outputs": [],
   "source": [
    "type Mass = Float\n",
    "type Position = (Float, Float)\n",
    "type Force = (Float, Float)\n",
    "type Object = (Mass, Position)\n",
    "\n",
    "-- Look at how much simpler the type signature is now!\n",
    "force :: Object -> Object -> Force\n",
    "force (m1, (x1, y1)) (m2, (x2, y2))\n",
    "    = (f * dx / r, f * dy / r)\n",
    "    where \n",
    "        dx = abs (x1 - x2)\n",
    "        dy = abs (y1 - y2)\n",
    "        r = sqrt (dx^2 + dy^2)\n",
    "        g = 6.67 * 10 ^ (-11)\n",
    "        f = g * m1 * m2 / r^2"
   ]
  },
  {
   "cell_type": "markdown",
   "metadata": {},
   "source": [
    "## Scope\n",
    "\n",
    "The scope of an identifier is the part of the program in which the identifier has a meaning.\n",
    "* Top-level identifiers: global scope\n",
    "* Within each rule: each argument and local identifier is in scope throughout the rule\n",
    "Identifiers in `where` clauses supersede argument identifiers with the same name.\n",
    "* Identifiers in nested `where` clauses superseded those with the same name in an outer where clause\n",
    "* tldr; think of it like subsets, if there are conflicts of variables choose the one most local (innermost)"
   ]
  },
  {
   "cell_type": "code",
   "execution_count": 11,
   "metadata": {},
   "outputs": [],
   "source": [
    "f :: Int -> Int -> Int\n",
    "f x y -- This y is superseded!\n",
    "    = x + y -- Uses y from line 5, uses x from line 2\n",
    "    where\n",
    "        y = x^2 -- Uses x from line 6\n",
    "            where x = 3\n",
    "            \n",
    "-- Hence the function has the same meaning as\n",
    "-- f x y = x + 9"
   ]
  },
  {
   "cell_type": "markdown",
   "metadata": {},
   "source": [
    "## Evaluation\n",
    "\n",
    "* Evaluation: reducing expression to simplest normal form (cannot be simplified anymore)\n",
    "    * E.g. 3 + 4 is reducible into the normal form 7\n",
    "* Redex: reducible expression\n",
    "    * Reduction: repeatedly reducing redexes until no more redexes exist"
   ]
  },
  {
   "cell_type": "code",
   "execution_count": 12,
   "metadata": {},
   "outputs": [],
   "source": [
    "double :: Int -> Int\n",
    "double x\n",
    "    = x + x"
   ]
  },
  {
   "cell_type": "markdown",
   "metadata": {},
   "source": [
    "* Call-by-value reduction sequence for `double (3 + 4)`\n",
    "    * Evaluate 3 + 4: `double 7`, built-in rules for +\n",
    "    * Evaluate `7 + 7`: output 14, built-in rules for `double`\n",
    "* Call-by-name reduction sequence\n",
    "    * Evaluate (3 + 4) + (4 + 4): rule for `double`\n",
    "    * Evaluate 7 + &: built-in rules for +\n",
    "    \n",
    "Haskell favours call-by-name reduction!\n",
    "* Stores as a graph: breaks it down into components\n",
    "* Stores a single `x` value"
   ]
  },
  {
   "cell_type": "markdown",
   "metadata": {},
   "source": [
    "Lazy evaluation: reduces a redex only if the value of the redex is required to produce the normal form\n",
    "* Don't evaluate anything unless you have to"
   ]
  },
  {
   "cell_type": "code",
   "execution_count": 15,
   "metadata": {},
   "outputs": [
    {
     "data": {
      "text/plain": [
       "0.0"
      ]
     },
     "metadata": {},
     "output_type": "display_data"
    }
   ],
   "source": [
    "f :: Float -> Float -> Float\n",
    "f x y\n",
    "    | x < 0 = 0\n",
    "    | otherwise = y\n",
    "\n",
    "f (-3) (6/0) -- The second argument y is not needed"
   ]
  },
  {
   "cell_type": "code",
   "execution_count": null,
   "metadata": {},
   "outputs": [],
   "source": []
  }
 ],
 "metadata": {
  "interpreter": {
   "hash": "aee8b7b246df8f9039afb4144a1f6fd8d2ca17a180786b69acc140d282b71a49"
  },
  "kernelspec": {
   "display_name": "Haskell",
   "language": "haskell",
   "name": "haskell"
  },
  "language_info": {
   "codemirror_mode": "ihaskell",
   "file_extension": ".hs",
   "mimetype": "text/x-haskell",
   "name": "haskell",
   "pygments_lexer": "Haskell",
   "version": "8.10.4"
  }
 },
 "nbformat": 4,
 "nbformat_minor": 4
}
