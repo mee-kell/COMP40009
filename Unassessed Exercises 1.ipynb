{
 "cells": [
  {
   "cell_type": "markdown",
   "id": "f0831d5a-61e6-41dd-9e1a-f6bdcec7343c",
   "metadata": {},
   "source": [
    "# Functional Programming in Haskell"
   ]
  },
  {
   "cell_type": "code",
   "execution_count": 9,
   "id": "acfb55f3-5492-47b0-a21e-2e782be956ed",
   "metadata": {},
   "outputs": [],
   "source": [
    ":m + Data.Char"
   ]
  },
  {
   "cell_type": "markdown",
   "id": "76419b70-49fb-4a6e-8bc6-820258617d0b",
   "metadata": {},
   "source": [
    "### Basics\n",
    "\n",
    "Question 1."
   ]
  },
  {
   "cell_type": "code",
   "execution_count": 3,
   "id": "18e433ed-0e24-4e07-82df-f79fff3f029d",
   "metadata": {},
   "outputs": [
    {
     "data": {
      "text/plain": [
       "-5"
      ]
     },
     "metadata": {},
     "output_type": "display_data"
    },
    {
     "data": {
      "text/plain": [
       "3"
      ]
     },
     "metadata": {},
     "output_type": "display_data"
    }
   ],
   "source": [
    "2 - 3 - 4\n",
    "2 - (3 - 4)"
   ]
  },
  {
   "cell_type": "markdown",
   "id": "163026cd-552b-4479-9e4d-1ea90a4a1a84",
   "metadata": {},
   "source": [
    "The subtraction operator is a left-associative operator.\n",
    "* Left associative: evaluated from left to right\n",
    "* Right associative: evaluated from right to left"
   ]
  },
  {
   "cell_type": "code",
   "execution_count": 7,
   "id": "ffc54e3e-e0e8-4975-97cf-1b16e05e54be",
   "metadata": {},
   "outputs": [
    {
     "data": {
      "text/plain": [
       "5"
      ]
     },
     "metadata": {},
     "output_type": "display_data"
    },
    {
     "ename": "",
     "evalue": "",
     "header": "MessageHeader {mhIdentifiers = [\"da69b358-e506-4dba-832a-780b95fdd09e\"], mhParentHeader = Just (MessageHeader {mhIdentifiers = [\"da69b358-e506-4dba-832a-780b95fdd09e\"], mhParentHeader = Nothing, mhMetadata = Metadata (fromList [(\"recordTiming\",Bool False),(\"deletedCells\",Array []),(\"cellId\",String \"ffc54e3e-e0e8-4975-97cf-1b16e05e54be\")]), mhMessageId = UUID {uuidToString = \"c7ccb763-966e-4e6f-ab8d-4f22ac43b784\"}, mhSessionId = UUID {uuidToString = \"da69b358-e506-4dba-832a-780b95fdd09e\"}, mhUsername = \"\", mhMsgType = ExecuteRequestMessage, mhBuffers = []}), mhMetadata = Metadata (fromList []), mhMessageId = UUID {uuidToString = \"e40204e8-135f-4d22-89ce-1abbc7e6bd11\"}, mhSessionId = UUID {uuidToString = \"da69b358-e506-4dba-832a-780b95fdd09e\"}, mhUsername = \"\", mhMsgType = ExecuteErrorMessage, mhBuffers = []}",
     "output_type": "error",
     "traceback": [
      "divide by zero"
     ]
    }
   ],
   "source": [
    "100 `div` 4 `div` 5\n",
    "100 `div` (4 `div` 5)"
   ]
  },
  {
   "cell_type": "markdown",
   "id": "f9794ddb-ce0c-4b3b-b138-45ea57f73d34",
   "metadata": {},
   "source": [
    "The back quotes in `div` turn the prefix function into an infix operator - do not confuse back quotes with forward quotes!\n",
    "* Divide by zero error occurs because Int type rounds"
   ]
  },
  {
   "cell_type": "code",
   "execution_count": 8,
   "id": "ad589d39-9bce-4119-afed-00a68a0045c8",
   "metadata": {},
   "outputs": [
    {
     "data": {
      "text/plain": [
       "512"
      ]
     },
     "metadata": {},
     "output_type": "display_data"
    },
    {
     "data": {
      "text/plain": [
       "-17"
      ]
     },
     "metadata": {},
     "output_type": "display_data"
    },
    {
     "data": {
      "text/plain": [
       "12"
      ]
     },
     "metadata": {},
     "output_type": "display_data"
    },
    {
     "data": {
      "text/plain": [
       "16"
      ]
     },
     "metadata": {},
     "output_type": "display_data"
    }
   ],
   "source": [
    "2 ^ 3 ^ 2\n",
    "3 - 5 * 4\n",
    "2 ^ 2 * 3\n",
    "2 * 2 ^ 3"
   ]
  },
  {
   "cell_type": "markdown",
   "id": "2a77516d-52f2-4984-a654-fd84a40bcbce",
   "metadata": {},
   "source": [
    "The ^ operator is right-associative.\n",
    "* Relative precedence of operators: ^, *, -\n",
    "* We say that ^ binds more tightly than *"
   ]
  },
  {
   "cell_type": "code",
   "execution_count": 11,
   "id": "55050c32-0d6b-4a84-9b57-a19601dc3343",
   "metadata": {},
   "outputs": [
    {
     "data": {
      "text/plain": [
       "True"
      ]
     },
     "metadata": {},
     "output_type": "display_data"
    },
    {
     "data": {
      "text/plain": [
       "97"
      ]
     },
     "metadata": {},
     "output_type": "display_data"
    },
    {
     "data": {
      "text/plain": [
       "'a'"
      ]
     },
     "metadata": {},
     "output_type": "display_data"
    },
    {
     "data": {
      "text/plain": [
       "'x'"
      ]
     },
     "metadata": {},
     "output_type": "display_data"
    },
    {
     "data": {
      "text/plain": [
       "False"
      ]
     },
     "metadata": {},
     "output_type": "display_data"
    },
    {
     "data": {
      "text/plain": [
       "True"
      ]
     },
     "metadata": {},
     "output_type": "display_data"
    }
   ],
   "source": [
    "(3 + 4 - 5) == (3 - 5 + 4)\n",
    "ord 'a'\n",
    "chr (ord 'b' - 1)\n",
    "chr (ord 'X' + (ord 'a' - ord 'A'))\n",
    "'p' /= 'p'\n",
    "'h' <= 'u'"
   ]
  },
  {
   "cell_type": "markdown",
   "id": "4367a2da-78c4-4933-8ff6-614c44553b29",
   "metadata": {},
   "source": [
    "ASCII encoding defines a code for 128 basic characters. The ASCII code is obtained using `ord` for ordinal value. `chr` returns the character corresponding to the given Unicode number. "
   ]
  },
  {
   "cell_type": "code",
   "execution_count": 13,
   "id": "5bfab6d4-5103-448b-b5ed-96da53c5545f",
   "metadata": {},
   "outputs": [
    {
     "data": {
      "text/plain": [
       "2.0000000000000004"
      ]
     },
     "metadata": {},
     "output_type": "display_data"
    },
    {
     "data": {
      "text/plain": [
       "2.0"
      ]
     },
     "metadata": {},
     "output_type": "display_data"
    },
    {
     "data": {
      "text/plain": [
       "4.440892098500626e-16"
      ]
     },
     "metadata": {},
     "output_type": "display_data"
    },
    {
     "data": {
      "text/plain": [
       "False"
      ]
     },
     "metadata": {},
     "output_type": "display_data"
    }
   ],
   "source": [
    "sqrt 2 ^ 2\n",
    "sqrt 2 ^ 2 - 2\n",
    "sqrt 2 ^ 2 == 2"
   ]
  },
  {
   "cell_type": "markdown",
   "id": "cf18777b-7a72-438e-8aea-6545454301ab",
   "metadata": {},
   "source": [
    "`sqrt` calculates the square root of a given number. `sqrt 2 ^ 2` is interpreted as `(sqrt 2) ^ 2`.\n",
    "* Infix functions take precendence over prefix functions"
   ]
  },
  {
   "cell_type": "markdown",
   "id": "49a7b493-fc3a-41e5-978e-7e9b0cb42152",
   "metadata": {},
   "source": [
    "Question 2. Use `div`, `mod` and `ord` to find:\n",
    "\n",
    "(a) The last digit of the number 123\n",
    "\n",
    "(b) The penultimate digit of the number 456\n",
    "\n",
    "(c) The eighth lower-case letter of the alphabet (i.e. starting from ’a’)"
   ]
  },
  {
   "cell_type": "code",
   "execution_count": 19,
   "id": "08267e72-20c5-4fde-a38e-d8adb19781c1",
   "metadata": {},
   "outputs": [
    {
     "data": {
      "text/plain": [
       "3"
      ]
     },
     "metadata": {},
     "output_type": "display_data"
    },
    {
     "data": {
      "text/plain": [
       "5"
      ]
     },
     "metadata": {},
     "output_type": "display_data"
    },
    {
     "data": {
      "text/plain": [
       "'h'"
      ]
     },
     "metadata": {},
     "output_type": "display_data"
    }
   ],
   "source": [
    "mod 123 10\n",
    "mod (456 `div` 10) 10\n",
    "chr (ord 'a' + 8 - 1)"
   ]
  },
  {
   "cell_type": "markdown",
   "id": "b702731c-200e-4fed-9375-ace6c02dde36",
   "metadata": {},
   "source": [
    "Question 3.\n",
    "\n",
    "Add the minimum number of parentheses so that the resulting expression is well formed and well typed."
   ]
  },
  {
   "cell_type": "code",
   "execution_count": 22,
   "id": "c4ab34b0-157a-43fb-9a26-0d1d76c360ca",
   "metadata": {},
   "outputs": [
    {
     "data": {
      "text/html": [
       "<style>/* Styles used for the Hoogle display in the pager */\n",
       ".hoogle-doc {\n",
       "display: block;\n",
       "padding-bottom: 1.3em;\n",
       "padding-left: 0.4em;\n",
       "}\n",
       ".hoogle-code {\n",
       "display: block;\n",
       "font-family: monospace;\n",
       "white-space: pre;\n",
       "}\n",
       ".hoogle-text {\n",
       "display: block;\n",
       "}\n",
       ".hoogle-name {\n",
       "color: green;\n",
       "font-weight: bold;\n",
       "}\n",
       ".hoogle-head {\n",
       "font-weight: bold;\n",
       "}\n",
       ".hoogle-sub {\n",
       "display: block;\n",
       "margin-left: 0.4em;\n",
       "}\n",
       ".hoogle-package {\n",
       "font-weight: bold;\n",
       "font-style: italic;\n",
       "}\n",
       ".hoogle-module {\n",
       "font-weight: bold;\n",
       "}\n",
       ".hoogle-class {\n",
       "font-weight: bold;\n",
       "}\n",
       ".get-type {\n",
       "color: green;\n",
       "font-weight: bold;\n",
       "font-family: monospace;\n",
       "display: block;\n",
       "white-space: pre-wrap;\n",
       "}\n",
       ".show-type {\n",
       "color: green;\n",
       "font-weight: bold;\n",
       "font-family: monospace;\n",
       "margin-left: 1em;\n",
       "}\n",
       ".mono {\n",
       "font-family: monospace;\n",
       "display: block;\n",
       "}\n",
       ".err-msg {\n",
       "color: red;\n",
       "font-style: italic;\n",
       "font-family: monospace;\n",
       "white-space: pre;\n",
       "display: block;\n",
       "}\n",
       "#unshowable {\n",
       "color: red;\n",
       "font-weight: bold;\n",
       "}\n",
       ".err-msg.in.collapse {\n",
       "padding-top: 0.7em;\n",
       "}\n",
       ".highlight-code {\n",
       "white-space: pre;\n",
       "font-family: monospace;\n",
       "}\n",
       ".suggestion-warning { \n",
       "font-weight: bold;\n",
       "color: rgb(200, 130, 0);\n",
       "}\n",
       ".suggestion-error { \n",
       "font-weight: bold;\n",
       "color: red;\n",
       "}\n",
       ".suggestion-name {\n",
       "font-weight: bold;\n",
       "}\n",
       "</style><div class=\"suggestion-name\" style=\"clear:both;\">Use /=</div><div class=\"suggestion-row\" style=\"float: left;\"><div class=\"suggestion-warning\">Found:</div><div class=\"highlight-code\" id=\"haskell\">not (2 * 3 == 10)</div></div><div class=\"suggestion-row\" style=\"float: left;\"><div class=\"suggestion-warning\">Why Not:</div><div class=\"highlight-code\" id=\"haskell\">(2 * 3) /= 10</div></div><div class=\"suggestion-name\" style=\"clear:both;\">Redundant ==</div><div class=\"suggestion-row\" style=\"float: left;\"><div class=\"suggestion-warning\">Found:</div><div class=\"highlight-code\" id=\"haskell\">(3 == 4) == True</div></div><div class=\"suggestion-row\" style=\"float: left;\"><div class=\"suggestion-warning\">Why Not:</div><div class=\"highlight-code\" id=\"haskell\">(3 == 4)</div></div><div class=\"suggestion-name\" style=\"clear:both;\">Redundant ==</div><div class=\"suggestion-row\" style=\"float: left;\"><div class=\"suggestion-warning\">Found:</div><div class=\"highlight-code\" id=\"haskell\">(8 > 2 ^ (if 3 == 4 then 2 else 3)) == False</div></div><div class=\"suggestion-row\" style=\"float: left;\"><div class=\"suggestion-warning\">Why Not:</div><div class=\"highlight-code\" id=\"haskell\">not (8 > 2 ^ (if 3 == 4 then 2 else 3))</div></div>"
      ],
      "text/plain": [
       "Line 1: Use /=\n",
       "Found:\n",
       "not (2 * 3 == 10)\n",
       "Why not:\n",
       "(2 * 3) /= 10Line 2: Redundant ==\n",
       "Found:\n",
       "(3 == 4) == True\n",
       "Why not:\n",
       "(3 == 4)Line 5: Redundant ==\n",
       "Found:\n",
       "(8 > 2 ^ (if 3 == 4 then 2 else 3)) == False\n",
       "Why not:\n",
       "not (8 > 2 ^ (if 3 == 4 then 2 else 3))"
      ]
     },
     "metadata": {},
     "output_type": "display_data"
    },
    {
     "data": {
      "text/plain": [
       "True"
      ]
     },
     "metadata": {},
     "output_type": "display_data"
    },
    {
     "data": {
      "text/plain": [
       "False"
      ]
     },
     "metadata": {},
     "output_type": "display_data"
    },
    {
     "data": {
      "text/plain": [
       "False"
      ]
     },
     "metadata": {},
     "output_type": "display_data"
    },
    {
     "data": {
      "text/plain": [
       "99"
      ]
     },
     "metadata": {},
     "output_type": "display_data"
    },
    {
     "data": {
      "text/plain": [
       "True"
      ]
     },
     "metadata": {},
     "output_type": "display_data"
    }
   ],
   "source": [
    "not (2 * 3 == 10)\n",
    "(3 == 4) == True\n",
    "(if True then 1 else 2) == 3\n",
    "ord (if 3 == 4 then 'a' else 'b') + 1\n",
    "(8 > 2 ^ (if 3 == 4 then 2 else 3)) == False"
   ]
  },
  {
   "cell_type": "markdown",
   "id": "afd902e7-3f86-4c21-8af6-d503e604a28e",
   "metadata": {},
   "source": [
    "Question 4.\n",
    "\n",
    "The operators ==, /=, <, >, <=, >= also work on tuples."
   ]
  },
  {
   "cell_type": "code",
   "execution_count": 25,
   "id": "b04640e0-29df-4d43-9651-6a36716da27d",
   "metadata": {},
   "outputs": [
    {
     "data": {
      "text/plain": [
       "True"
      ]
     },
     "metadata": {},
     "output_type": "display_data"
    },
    {
     "data": {
      "text/plain": [
       "True"
      ]
     },
     "metadata": {},
     "output_type": "display_data"
    },
    {
     "data": {
      "text/plain": [
       "True"
      ]
     },
     "metadata": {},
     "output_type": "display_data"
    }
   ],
   "source": [
    "(1, 2) < (1, 4)\n",
    "((4, 9), (3, 1)) > ((1, 10), (9,4))\n",
    "('a', 5, (3, 'b')) < ('a', 5, (3, 'c'))"
   ]
  },
  {
   "cell_type": "markdown",
   "id": "97de84f1-5423-4142-b3ba-3a205f22a3c3",
   "metadata": {},
   "source": [
    "**Question 5.**\n",
    "\n",
    "Using div and mod (infix or prefix) write an expression which converts time (an integer called s, say), representing the number of seconds since midnight, into a triple of integers representing the number of (whole) hours, minutes and seconds since midnight."
   ]
  },
  {
   "cell_type": "code",
   "execution_count": 37,
   "id": "25d1930f-135e-4d7e-a179-7f8554b02e22",
   "metadata": {},
   "outputs": [
    {
     "data": {
      "text/plain": [
       "(2,21,13)"
      ]
     },
     "metadata": {},
     "output_type": "display_data"
    }
   ],
   "source": [
    "let s = 8473 in (s `div` 3600, mod s 3600  `div` 60, mod (mod s 3600) 60)"
   ]
  },
  {
   "cell_type": "markdown",
   "id": "52ade5ce-977b-46e1-9e67-1a0c9ba65b0a",
   "metadata": {},
   "source": [
    "**Question 6.**\n",
    "\n",
    "A polar coordinate (r,θ) can be converted into a Cartesian coordinate using the fact that the x-axis displacement is rcos(θ), and the y-axis dis- placement is rsin(θ). Write a let expression which converts the polar coordinate (1, π/4) into its equivalent cartesian coordinate represented by a pair of Floats.\n",
    "\n",
    "Pattern matching: `let (x, y) = (5, 6) in x * y`"
   ]
  },
  {
   "cell_type": "code",
   "execution_count": 38,
   "id": "6311aae4-9242-426f-8c25-f8a1e32897ef",
   "metadata": {},
   "outputs": [
    {
     "data": {
      "text/plain": [
       "(0.7071067811865476,0.7071067811865475)"
      ]
     },
     "metadata": {},
     "output_type": "display_data"
    }
   ],
   "source": [
    "let (r, t) = (1, pi/4) in (r * cos t, r * sin t)"
   ]
  },
  {
   "cell_type": "markdown",
   "id": "8122bc84-f520-4df0-bc19-4c5cc1076970",
   "metadata": {},
   "source": [
    "**Question 7.**\n",
    "\n",
    "For each of the following, explain the answer you get. In at least one case you may get a pattern matching error."
   ]
  },
  {
   "cell_type": "code",
   "execution_count": 44,
   "id": "cb4dbc5e-9695-4bd9-ba5d-5c2e5e64ce06",
   "metadata": {},
   "outputs": [
    {
     "data": {
      "text/plain": [
       "(3,8,24)"
      ]
     },
     "metadata": {},
     "output_type": "display_data"
    },
    {
     "data": {
      "text/plain": [
       "1"
      ]
     },
     "metadata": {},
     "output_type": "display_data"
    },
    {
     "data": {
      "text/plain": [
       "(5,'*')"
      ]
     },
     "metadata": {},
     "output_type": "display_data"
    },
    {
     "data": {
      "text/plain": [
       "(True,(True,1))"
      ]
     },
     "metadata": {},
     "output_type": "display_data"
    }
   ],
   "source": [
    "let (x, y) = (3, 8) in (x, y, 24)\n",
    "-- let (x, y) = (1, 2, 3) in x - y\n",
    "let (x, (y, b)) = (7, (6, True)) in if b then x - y else 0\n",
    "let p = (6, 5) in let ((a, b), c) = (p, '*') in (b, c)\n",
    "let p = (True, 1) in (True, p)"
   ]
  },
  {
   "cell_type": "markdown",
   "id": "0b130139-def4-4507-8da6-11e038cf58f2",
   "metadata": {},
   "source": [
    "(a) Substitutes x = 3 and y = 8 into elements in tuple\n",
    "\n",
    "(b) Error: not enough constants to assign third value to\n",
    "\n",
    "(c) Substitutes x = 7, y = 6 and b = True\n",
    "\n",
    "(d) Substitutes p = (6, 5) into the next expression so that a = 6, b = 5, c = '*'\n",
    "\n",
    "(e) Substitutes tuple p into tuple expression"
   ]
  },
  {
   "cell_type": "markdown",
   "id": "591a0fb0-479a-4bb1-bac1-30ba1fc265ff",
   "metadata": {},
   "source": [
    "**Question 8.**\n",
    "\n",
    "The built-in function quotRem takes two integer arguments, n and m, and returns the pair (n ‘div‘ m, n ‘mod‘ m)."
   ]
  },
  {
   "cell_type": "code",
   "execution_count": 53,
   "id": "1710be28-c12f-4d8c-b156-d132589d9381",
   "metadata": {},
   "outputs": [
    {
     "data": {
      "text/plain": [
       "2244"
      ]
     },
     "metadata": {},
     "output_type": "display_data"
    }
   ],
   "source": [
    "let n = 24\n",
    "(n `div` 10 * 10 + n `div` 10) * 100 + (n `mod` 10 * 10 + n `mod` 10)"
   ]
  },
  {
   "cell_type": "code",
   "execution_count": 50,
   "id": "40d7904c-517a-41da-9d9c-e405309b811e",
   "metadata": {},
   "outputs": [
    {
     "data": {
      "text/plain": [
       "2244"
      ]
     },
     "metadata": {},
     "output_type": "display_data"
    }
   ],
   "source": [
    "let (d, m) = quotRem n 10 in (d * 10 + d) * 100 + (m * 10 + m)"
   ]
  },
  {
   "cell_type": "markdown",
   "id": "fc0cfc8d-d89d-4e16-a865-0ad0b617b528",
   "metadata": {},
   "source": [
    "This expression duplicates the first and second digits in order to form a four digit number."
   ]
  },
  {
   "cell_type": "markdown",
   "id": "46de1042-3e57-434b-9702-d83323199a3a",
   "metadata": {},
   "source": [
    "**Question 9.**\n",
    "\n",
    "(a) The characters in the string “As you like it” whose ordinal value is greater than 106.\n",
    "\n",
    "(b) The (positive) multiples of 13 less than 1000 that end with the digit 3.\n",
    "\n",
    "(c) The “times tables” for the numbers 2 to 12. The list should comprise triples of the form (m, n, m ∗ n), 2 ≤ m, n ≤ 12.\n",
    "\n",
    "(d) The list of honour cards (Jack, Queen, King, Ace) in a pack of cards. Each card should be represented by a pair comprising its value and suit. The value of an honour card is the first character of its name (’J’, ’Q, ’K’, ’A’). The suits Clubs, Diamonds, Hearts, Spades, should be represented by the characters ’C’, ’D’, ’H’, ’S’. For example, (’A’,’S’) is the ace of spades. Hint: notice that the generator lists comprise characters, i.e. they are Strings.\n",
    "\n",
    "(e) The list of all pairs of numbers (m,n),m < n, between 1 and 100 inclusive, whose sum is the same as the square of their absolute dif- ference."
   ]
  },
  {
   "cell_type": "code",
   "execution_count": 54,
   "id": "96e0040b-6860-4419-b24b-e112b995751a",
   "metadata": {},
   "outputs": [
    {
     "data": {
      "text/plain": [
       "\"syoulkt\""
      ]
     },
     "metadata": {},
     "output_type": "display_data"
    }
   ],
   "source": [
    "[s | s <- \"As you like it\", ord s > 106]"
   ]
  },
  {
   "cell_type": "code",
   "execution_count": 59,
   "id": "d1409fa2-8848-46a0-bb28-507a5a5d4f57",
   "metadata": {},
   "outputs": [
    {
     "data": {
      "text/plain": [
       "[13,143,273,403,533,663,793,923]"
      ]
     },
     "metadata": {},
     "output_type": "display_data"
    }
   ],
   "source": [
    "[m | m <- [0, 13.. 1000], mod m 10 == 3]"
   ]
  },
  {
   "cell_type": "code",
   "execution_count": 63,
   "id": "b5781bfd-b37a-4bde-8455-deee3b30876c",
   "metadata": {},
   "outputs": [
    {
     "data": {
      "text/plain": [
       "[(2,2,4),(2,3,6),(2,4,8),(2,5,10),(2,6,12),(2,7,14),(2,8,16),(2,9,18),(2,10,20),(2,11,22),(2,12,24),(3,2,6),(3,3,9),(3,4,12),(3,5,15),(3,6,18),(3,7,21),(3,8,24),(3,9,27),(3,10,30),(3,11,33),(3,12,36),(4,2,8),(4,3,12),(4,4,16),(4,5,20),(4,6,24),(4,7,28),(4,8,32),(4,9,36),(4,10,40),(4,11,44),(4,12,48),(5,2,10),(5,3,15),(5,4,20),(5,5,25),(5,6,30),(5,7,35),(5,8,40),(5,9,45),(5,10,50),(5,11,55),(5,12,60),(6,2,12),(6,3,18),(6,4,24),(6,5,30),(6,6,36),(6,7,42),(6,8,48),(6,9,54),(6,10,60),(6,11,66),(6,12,72),(7,2,14),(7,3,21),(7,4,28),(7,5,35),(7,6,42),(7,7,49),(7,8,56),(7,9,63),(7,10,70),(7,11,77),(7,12,84),(8,2,16),(8,3,24),(8,4,32),(8,5,40),(8,6,48),(8,7,56),(8,8,64),(8,9,72),(8,10,80),(8,11,88),(8,12,96),(9,2,18),(9,3,27),(9,4,36),(9,5,45),(9,6,54),(9,7,63),(9,8,72),(9,9,81),(9,10,90),(9,11,99),(9,12,108),(10,2,20),(10,3,30),(10,4,40),(10,5,50),(10,6,60),(10,7,70),(10,8,80),(10,9,90),(10,10,100),(10,11,110),(10,12,120),(11,2,22),(11,3,33),(11,4,44),(11,5,55),(11,6,66),(11,7,77),(11,8,88),(11,9,99),(11,10,110),(11,11,121),(11,12,132),(12,2,24),(12,3,36),(12,4,48),(12,5,60),(12,6,72),(12,7,84),(12,8,96),(12,9,108),(12,10,120),(12,11,132),(12,12,144)]"
      ]
     },
     "metadata": {},
     "output_type": "display_data"
    }
   ],
   "source": [
    "[(t, m, t * m) | t <- [2.. 12], m <- [2.. 12]]"
   ]
  },
  {
   "cell_type": "code",
   "execution_count": 64,
   "id": "64bcbb7e-a43f-4166-aadc-999221f0f9b2",
   "metadata": {},
   "outputs": [
    {
     "data": {
      "text/plain": [
       "[('J','C'),('J','D'),('J','H'),('J','S'),('Q','C'),('Q','D'),('Q','H'),('Q','S'),('K','C'),('K','D'),('K','H'),('K','S'),('A','C'),('A','D'),('A','H'),('A','S')]"
      ]
     },
     "metadata": {},
     "output_type": "display_data"
    }
   ],
   "source": [
    "[(v, s) | v <- \"JQKA\", s <- \"CDHS\"]"
   ]
  },
  {
   "cell_type": "code",
   "execution_count": 65,
   "id": "d9c7d430-880d-4c18-8b17-e4dc4f2c4c45",
   "metadata": {},
   "outputs": [
    {
     "data": {
      "text/plain": [
       "[(1,3),(3,6),(6,10),(10,15),(15,21),(21,28),(28,36),(36,45),(45,55),(55,66),(66,78),(78,91)]"
      ]
     },
     "metadata": {},
     "output_type": "display_data"
    }
   ],
   "source": [
    "[ (m, n) | m <- [1.. 100], n <- [1.. 100], m < n, m + n == (m - n) ^ 2]"
   ]
  },
  {
   "cell_type": "markdown",
   "id": "df2aa49b-deac-4f25-89d5-580d12dcb3b9",
   "metadata": {},
   "source": [
    "General format of list comprehensions:\n",
    "\n",
    "`[ output and/or operations | generated lists, condition that output values meet ]`"
   ]
  }
 ],
 "metadata": {
  "kernelspec": {
   "display_name": "Haskell",
   "language": "haskell",
   "name": "haskell"
  },
  "language_info": {
   "codemirror_mode": "ihaskell",
   "file_extension": ".hs",
   "mimetype": "text/x-haskell",
   "name": "haskell",
   "pygments_lexer": "Haskell",
   "version": "8.10.4"
  }
 },
 "nbformat": 4,
 "nbformat_minor": 5
}
