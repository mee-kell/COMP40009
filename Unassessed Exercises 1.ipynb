{
 "cells": [
  {
   "cell_type": "markdown",
   "source": [
    "# Functional Programming in Haskell"
   ],
   "metadata": {}
  },
  {
   "cell_type": "code",
   "execution_count": 9,
   "source": [
    ":m + Data.Char"
   ],
   "outputs": [],
   "metadata": {}
  },
  {
   "cell_type": "markdown",
   "source": [
    "# Basics\n",
    "\n",
    "Question 1."
   ],
   "metadata": {}
  },
  {
   "cell_type": "code",
   "execution_count": 3,
   "source": [
    "2 - 3 - 4\n",
    "2 - (3 - 4)"
   ],
   "outputs": [
    {
     "output_type": "display_data",
     "data": {
      "text/plain": [
       "-5"
      ]
     },
     "metadata": {}
    },
    {
     "output_type": "display_data",
     "data": {
      "text/plain": [
       "3"
      ]
     },
     "metadata": {}
    }
   ],
   "metadata": {}
  },
  {
   "cell_type": "markdown",
   "source": [
    "The subtraction operator is a left-associative operator.\n",
    "* Left associative: evaluated from left to right\n",
    "* Right associative: evaluated from right to left"
   ],
   "metadata": {}
  },
  {
   "cell_type": "code",
   "execution_count": 7,
   "source": [
    "100 `div` 4 `div` 5\n",
    "100 `div` (4 `div` 5)"
   ],
   "outputs": [
    {
     "output_type": "display_data",
     "data": {
      "text/plain": [
       "5"
      ]
     },
     "metadata": {}
    },
    {
     "output_type": "error",
     "ename": "",
     "evalue": "",
     "traceback": [
      "divide by zero"
     ]
    }
   ],
   "metadata": {}
  },
  {
   "cell_type": "markdown",
   "source": [
    "The back quotes in `div` turn the prefix function into an infix operator - do not confuse back quotes with forward quotes!\n",
    "* Divide by zero error occurs because Int type rounds"
   ],
   "metadata": {}
  },
  {
   "cell_type": "code",
   "execution_count": 8,
   "source": [
    "2 ^ 3 ^ 2\n",
    "3 - 5 * 4\n",
    "2 ^ 2 * 3\n",
    "2 * 2 ^ 3"
   ],
   "outputs": [
    {
     "output_type": "display_data",
     "data": {
      "text/plain": [
       "512"
      ]
     },
     "metadata": {}
    },
    {
     "output_type": "display_data",
     "data": {
      "text/plain": [
       "-17"
      ]
     },
     "metadata": {}
    },
    {
     "output_type": "display_data",
     "data": {
      "text/plain": [
       "12"
      ]
     },
     "metadata": {}
    },
    {
     "output_type": "display_data",
     "data": {
      "text/plain": [
       "16"
      ]
     },
     "metadata": {}
    }
   ],
   "metadata": {}
  },
  {
   "cell_type": "markdown",
   "source": [
    "The ^ operator is right-associative.\n",
    "* Relative precedence of operators: ^, *, -\n",
    "* We say that ^ binds more tightly than *"
   ],
   "metadata": {}
  },
  {
   "cell_type": "code",
   "execution_count": 11,
   "source": [
    "(3 + 4 - 5) == (3 - 5 + 4)\n",
    "ord 'a'\n",
    "chr (ord 'b' - 1)\n",
    "chr (ord 'X' + (ord 'a' - ord 'A'))\n",
    "'p' /= 'p'\n",
    "'h' <= 'u'"
   ],
   "outputs": [
    {
     "output_type": "display_data",
     "data": {
      "text/plain": [
       "True"
      ]
     },
     "metadata": {}
    },
    {
     "output_type": "display_data",
     "data": {
      "text/plain": [
       "97"
      ]
     },
     "metadata": {}
    },
    {
     "output_type": "display_data",
     "data": {
      "text/plain": [
       "'a'"
      ]
     },
     "metadata": {}
    },
    {
     "output_type": "display_data",
     "data": {
      "text/plain": [
       "'x'"
      ]
     },
     "metadata": {}
    },
    {
     "output_type": "display_data",
     "data": {
      "text/plain": [
       "False"
      ]
     },
     "metadata": {}
    },
    {
     "output_type": "display_data",
     "data": {
      "text/plain": [
       "True"
      ]
     },
     "metadata": {}
    }
   ],
   "metadata": {}
  },
  {
   "cell_type": "markdown",
   "source": [
    "ASCII encoding defines a code for 128 basic characters. The ASCII code is obtained using `ord` for ordinal value. `chr` returns the character corresponding to the given Unicode number. "
   ],
   "metadata": {}
  },
  {
   "cell_type": "code",
   "execution_count": 13,
   "source": [
    "sqrt 2 ^ 2\n",
    "sqrt 2 ^ 2 - 2\n",
    "sqrt 2 ^ 2 == 2"
   ],
   "outputs": [
    {
     "output_type": "display_data",
     "data": {
      "text/plain": [
       "2.0000000000000004"
      ]
     },
     "metadata": {}
    },
    {
     "output_type": "display_data",
     "data": {
      "text/plain": [
       "2.0"
      ]
     },
     "metadata": {}
    },
    {
     "output_type": "display_data",
     "data": {
      "text/plain": [
       "4.440892098500626e-16"
      ]
     },
     "metadata": {}
    },
    {
     "output_type": "display_data",
     "data": {
      "text/plain": [
       "False"
      ]
     },
     "metadata": {}
    }
   ],
   "metadata": {}
  },
  {
   "cell_type": "markdown",
   "source": [
    "`sqrt` calculates the square root of a given number. `sqrt 2 ^ 2` is interpreted as `(sqrt 2) ^ 2`.\n",
    "* Infix functions take precendence over prefix functions"
   ],
   "metadata": {}
  },
  {
   "cell_type": "markdown",
   "source": [
    "Question 2. Use `div`, `mod` and `ord` to find:\n",
    "\n",
    "(a) The last digit of the number 123\n",
    "\n",
    "(b) The penultimate digit of the number 456\n",
    "\n",
    "(c) The eighth lower-case letter of the alphabet (i.e. starting from ’a’)"
   ],
   "metadata": {}
  },
  {
   "cell_type": "code",
   "execution_count": 19,
   "source": [
    "mod 123 10\n",
    "mod (456 `div` 10) 10\n",
    "chr (ord 'a' + 8 - 1)"
   ],
   "outputs": [
    {
     "output_type": "display_data",
     "data": {
      "text/plain": [
       "3"
      ]
     },
     "metadata": {}
    },
    {
     "output_type": "display_data",
     "data": {
      "text/plain": [
       "5"
      ]
     },
     "metadata": {}
    },
    {
     "output_type": "display_data",
     "data": {
      "text/plain": [
       "'h'"
      ]
     },
     "metadata": {}
    }
   ],
   "metadata": {}
  },
  {
   "cell_type": "markdown",
   "source": [
    "Question 3.\n",
    "\n",
    "Add the minimum number of parentheses so that the resulting expression is well formed and well typed."
   ],
   "metadata": {}
  },
  {
   "cell_type": "code",
   "execution_count": 22,
   "source": [
    "not (2 * 3 == 10)\n",
    "(3 == 4) == True\n",
    "(if True then 1 else 2) == 3\n",
    "ord (if 3 == 4 then 'a' else 'b') + 1\n",
    "(8 > 2 ^ (if 3 == 4 then 2 else 3)) == False"
   ],
   "outputs": [
    {
     "output_type": "display_data",
     "data": {
      "text/html": [
       "<style>/* Styles used for the Hoogle display in the pager */\n",
       ".hoogle-doc {\n",
       "display: block;\n",
       "padding-bottom: 1.3em;\n",
       "padding-left: 0.4em;\n",
       "}\n",
       ".hoogle-code {\n",
       "display: block;\n",
       "font-family: monospace;\n",
       "white-space: pre;\n",
       "}\n",
       ".hoogle-text {\n",
       "display: block;\n",
       "}\n",
       ".hoogle-name {\n",
       "color: green;\n",
       "font-weight: bold;\n",
       "}\n",
       ".hoogle-head {\n",
       "font-weight: bold;\n",
       "}\n",
       ".hoogle-sub {\n",
       "display: block;\n",
       "margin-left: 0.4em;\n",
       "}\n",
       ".hoogle-package {\n",
       "font-weight: bold;\n",
       "font-style: italic;\n",
       "}\n",
       ".hoogle-module {\n",
       "font-weight: bold;\n",
       "}\n",
       ".hoogle-class {\n",
       "font-weight: bold;\n",
       "}\n",
       ".get-type {\n",
       "color: green;\n",
       "font-weight: bold;\n",
       "font-family: monospace;\n",
       "display: block;\n",
       "white-space: pre-wrap;\n",
       "}\n",
       ".show-type {\n",
       "color: green;\n",
       "font-weight: bold;\n",
       "font-family: monospace;\n",
       "margin-left: 1em;\n",
       "}\n",
       ".mono {\n",
       "font-family: monospace;\n",
       "display: block;\n",
       "}\n",
       ".err-msg {\n",
       "color: red;\n",
       "font-style: italic;\n",
       "font-family: monospace;\n",
       "white-space: pre;\n",
       "display: block;\n",
       "}\n",
       "#unshowable {\n",
       "color: red;\n",
       "font-weight: bold;\n",
       "}\n",
       ".err-msg.in.collapse {\n",
       "padding-top: 0.7em;\n",
       "}\n",
       ".highlight-code {\n",
       "white-space: pre;\n",
       "font-family: monospace;\n",
       "}\n",
       ".suggestion-warning { \n",
       "font-weight: bold;\n",
       "color: rgb(200, 130, 0);\n",
       "}\n",
       ".suggestion-error { \n",
       "font-weight: bold;\n",
       "color: red;\n",
       "}\n",
       ".suggestion-name {\n",
       "font-weight: bold;\n",
       "}\n",
       "</style><div class=\"suggestion-name\" style=\"clear:both;\">Use /=</div><div class=\"suggestion-row\" style=\"float: left;\"><div class=\"suggestion-warning\">Found:</div><div class=\"highlight-code\" id=\"haskell\">not (2 * 3 == 10)</div></div><div class=\"suggestion-row\" style=\"float: left;\"><div class=\"suggestion-warning\">Why Not:</div><div class=\"highlight-code\" id=\"haskell\">(2 * 3) /= 10</div></div><div class=\"suggestion-name\" style=\"clear:both;\">Redundant ==</div><div class=\"suggestion-row\" style=\"float: left;\"><div class=\"suggestion-warning\">Found:</div><div class=\"highlight-code\" id=\"haskell\">(3 == 4) == True</div></div><div class=\"suggestion-row\" style=\"float: left;\"><div class=\"suggestion-warning\">Why Not:</div><div class=\"highlight-code\" id=\"haskell\">(3 == 4)</div></div><div class=\"suggestion-name\" style=\"clear:both;\">Redundant ==</div><div class=\"suggestion-row\" style=\"float: left;\"><div class=\"suggestion-warning\">Found:</div><div class=\"highlight-code\" id=\"haskell\">(8 > 2 ^ (if 3 == 4 then 2 else 3)) == False</div></div><div class=\"suggestion-row\" style=\"float: left;\"><div class=\"suggestion-warning\">Why Not:</div><div class=\"highlight-code\" id=\"haskell\">not (8 > 2 ^ (if 3 == 4 then 2 else 3))</div></div>"
      ],
      "text/plain": [
       "Line 1: Use /=\n",
       "Found:\n",
       "not (2 * 3 == 10)\n",
       "Why not:\n",
       "(2 * 3) /= 10Line 2: Redundant ==\n",
       "Found:\n",
       "(3 == 4) == True\n",
       "Why not:\n",
       "(3 == 4)Line 5: Redundant ==\n",
       "Found:\n",
       "(8 > 2 ^ (if 3 == 4 then 2 else 3)) == False\n",
       "Why not:\n",
       "not (8 > 2 ^ (if 3 == 4 then 2 else 3))"
      ]
     },
     "metadata": {}
    },
    {
     "output_type": "display_data",
     "data": {
      "text/plain": [
       "True"
      ]
     },
     "metadata": {}
    },
    {
     "output_type": "display_data",
     "data": {
      "text/plain": [
       "False"
      ]
     },
     "metadata": {}
    },
    {
     "output_type": "display_data",
     "data": {
      "text/plain": [
       "False"
      ]
     },
     "metadata": {}
    },
    {
     "output_type": "display_data",
     "data": {
      "text/plain": [
       "99"
      ]
     },
     "metadata": {}
    },
    {
     "output_type": "display_data",
     "data": {
      "text/plain": [
       "True"
      ]
     },
     "metadata": {}
    }
   ],
   "metadata": {}
  },
  {
   "cell_type": "markdown",
   "source": [
    "Question 4.\n",
    "\n",
    "The operators ==, /=, <, >, <=, >= also work on tuples."
   ],
   "metadata": {}
  },
  {
   "cell_type": "code",
   "execution_count": 25,
   "source": [
    "(1, 2) < (1, 4)\n",
    "((4, 9), (3, 1)) > ((1, 10), (9,4))\n",
    "('a', 5, (3, 'b')) < ('a', 5, (3, 'c'))"
   ],
   "outputs": [
    {
     "output_type": "display_data",
     "data": {
      "text/plain": [
       "True"
      ]
     },
     "metadata": {}
    },
    {
     "output_type": "display_data",
     "data": {
      "text/plain": [
       "True"
      ]
     },
     "metadata": {}
    },
    {
     "output_type": "display_data",
     "data": {
      "text/plain": [
       "True"
      ]
     },
     "metadata": {}
    }
   ],
   "metadata": {}
  },
  {
   "cell_type": "markdown",
   "source": [
    "**Question 5.**\n",
    "\n",
    "Using div and mod (infix or prefix) write an expression which converts time (an integer called s, say), representing the number of seconds since midnight, into a triple of integers representing the number of (whole) hours, minutes and seconds since midnight."
   ],
   "metadata": {}
  },
  {
   "cell_type": "code",
   "execution_count": 37,
   "source": [
    "let s = 8473 in (s `div` 3600, mod s 3600  `div` 60, mod (mod s 3600) 60)"
   ],
   "outputs": [
    {
     "output_type": "display_data",
     "data": {
      "text/plain": [
       "(2,21,13)"
      ]
     },
     "metadata": {}
    }
   ],
   "metadata": {}
  },
  {
   "cell_type": "markdown",
   "source": [
    "**Question 6.**\n",
    "\n",
    "A polar coordinate (r,θ) can be converted into a Cartesian coordinate using the fact that the x-axis displacement is rcos(θ), and the y-axis dis- placement is rsin(θ). Write a let expression which converts the polar coordinate (1, π/4) into its equivalent cartesian coordinate represented by a pair of Floats.\n",
    "\n",
    "Pattern matching: `let (x, y) = (5, 6) in x * y`"
   ],
   "metadata": {}
  },
  {
   "cell_type": "code",
   "execution_count": 38,
   "source": [
    "let (r, t) = (1, pi/4) in (r * cos t, r * sin t)"
   ],
   "outputs": [
    {
     "output_type": "display_data",
     "data": {
      "text/plain": [
       "(0.7071067811865476,0.7071067811865475)"
      ]
     },
     "metadata": {}
    }
   ],
   "metadata": {}
  },
  {
   "cell_type": "markdown",
   "source": [
    "**Question 7.**\n",
    "\n",
    "For each of the following, explain the answer you get. In at least one case you may get a pattern matching error."
   ],
   "metadata": {}
  },
  {
   "cell_type": "code",
   "execution_count": 44,
   "source": [
    "let (x, y) = (3, 8) in (x, y, 24)\n",
    "-- let (x, y) = (1, 2, 3) in x - y\n",
    "let (x, (y, b)) = (7, (6, True)) in if b then x - y else 0\n",
    "let p = (6, 5) in let ((a, b), c) = (p, '*') in (b, c)\n",
    "let p = (True, 1) in (True, p)"
   ],
   "outputs": [
    {
     "output_type": "display_data",
     "data": {
      "text/plain": [
       "(3,8,24)"
      ]
     },
     "metadata": {}
    },
    {
     "output_type": "display_data",
     "data": {
      "text/plain": [
       "1"
      ]
     },
     "metadata": {}
    },
    {
     "output_type": "display_data",
     "data": {
      "text/plain": [
       "(5,'*')"
      ]
     },
     "metadata": {}
    },
    {
     "output_type": "display_data",
     "data": {
      "text/plain": [
       "(True,(True,1))"
      ]
     },
     "metadata": {}
    }
   ],
   "metadata": {}
  },
  {
   "cell_type": "markdown",
   "source": [
    "(a) Substitutes x = 3 and y = 8 into elements in tuple\n",
    "\n",
    "(b) Error: not enough constants to assign third value to\n",
    "\n",
    "(c) Substitutes x = 7, y = 6 and b = True\n",
    "\n",
    "(d) Substitutes p = (6, 5) into the next expression so that a = 6, b = 5, c = '*'\n",
    "\n",
    "(e) Substitutes tuple p into tuple expression"
   ],
   "metadata": {}
  },
  {
   "cell_type": "markdown",
   "source": [
    "**Question 8.**\n",
    "\n",
    "The built-in function quotRem takes two integer arguments, n and m, and returns the pair (n ‘div‘ m, n ‘mod‘ m)."
   ],
   "metadata": {}
  },
  {
   "cell_type": "code",
   "execution_count": 53,
   "source": [
    "let n = 24\n",
    "(n `div` 10 * 10 + n `div` 10) * 100 + (n `mod` 10 * 10 + n `mod` 10)"
   ],
   "outputs": [
    {
     "output_type": "display_data",
     "data": {
      "text/plain": [
       "2244"
      ]
     },
     "metadata": {}
    }
   ],
   "metadata": {}
  },
  {
   "cell_type": "code",
   "execution_count": 50,
   "source": [
    "let (d, m) = quotRem n 10 in (d * 10 + d) * 100 + (m * 10 + m)"
   ],
   "outputs": [
    {
     "output_type": "display_data",
     "data": {
      "text/plain": [
       "2244"
      ]
     },
     "metadata": {}
    }
   ],
   "metadata": {}
  },
  {
   "cell_type": "markdown",
   "source": [
    "This expression duplicates the first and second digits in order to form a four digit number."
   ],
   "metadata": {}
  },
  {
   "cell_type": "markdown",
   "source": [
    "**Question 9.**\n",
    "\n",
    "(a) The characters in the string “As you like it” whose ordinal value is greater than 106.\n",
    "\n",
    "(b) The (positive) multiples of 13 less than 1000 that end with the digit 3.\n",
    "\n",
    "(c) The “times tables” for the numbers 2 to 12. The list should comprise triples of the form (m, n, m ∗ n), 2 ≤ m, n ≤ 12.\n",
    "\n",
    "(d) The list of honour cards (Jack, Queen, King, Ace) in a pack of cards. Each card should be represented by a pair comprising its value and suit. The value of an honour card is the first character of its name (’J’, ’Q, ’K’, ’A’). The suits Clubs, Diamonds, Hearts, Spades, should be represented by the characters ’C’, ’D’, ’H’, ’S’. For example, (’A’,’S’) is the ace of spades. Hint: notice that the generator lists comprise characters, i.e. they are Strings.\n",
    "\n",
    "(e) The list of all pairs of numbers (m,n),m < n, between 1 and 100 inclusive, whose sum is the same as the square of their absolute dif- ference."
   ],
   "metadata": {}
  },
  {
   "cell_type": "code",
   "execution_count": 54,
   "source": [
    "[s | s <- \"As you like it\", ord s > 106]"
   ],
   "outputs": [
    {
     "output_type": "display_data",
     "data": {
      "text/plain": [
       "\"syoulkt\""
      ]
     },
     "metadata": {}
    }
   ],
   "metadata": {}
  },
  {
   "cell_type": "code",
   "execution_count": 59,
   "source": [
    "[m | m <- [0, 13.. 1000], mod m 10 == 3]"
   ],
   "outputs": [
    {
     "output_type": "display_data",
     "data": {
      "text/plain": [
       "[13,143,273,403,533,663,793,923]"
      ]
     },
     "metadata": {}
    }
   ],
   "metadata": {}
  },
  {
   "cell_type": "code",
   "execution_count": 63,
   "source": [
    "[(t, m, t * m) | t <- [2.. 12], m <- [2.. 12]]"
   ],
   "outputs": [
    {
     "output_type": "display_data",
     "data": {
      "text/plain": [
       "[(2,2,4),(2,3,6),(2,4,8),(2,5,10),(2,6,12),(2,7,14),(2,8,16),(2,9,18),(2,10,20),(2,11,22),(2,12,24),(3,2,6),(3,3,9),(3,4,12),(3,5,15),(3,6,18),(3,7,21),(3,8,24),(3,9,27),(3,10,30),(3,11,33),(3,12,36),(4,2,8),(4,3,12),(4,4,16),(4,5,20),(4,6,24),(4,7,28),(4,8,32),(4,9,36),(4,10,40),(4,11,44),(4,12,48),(5,2,10),(5,3,15),(5,4,20),(5,5,25),(5,6,30),(5,7,35),(5,8,40),(5,9,45),(5,10,50),(5,11,55),(5,12,60),(6,2,12),(6,3,18),(6,4,24),(6,5,30),(6,6,36),(6,7,42),(6,8,48),(6,9,54),(6,10,60),(6,11,66),(6,12,72),(7,2,14),(7,3,21),(7,4,28),(7,5,35),(7,6,42),(7,7,49),(7,8,56),(7,9,63),(7,10,70),(7,11,77),(7,12,84),(8,2,16),(8,3,24),(8,4,32),(8,5,40),(8,6,48),(8,7,56),(8,8,64),(8,9,72),(8,10,80),(8,11,88),(8,12,96),(9,2,18),(9,3,27),(9,4,36),(9,5,45),(9,6,54),(9,7,63),(9,8,72),(9,9,81),(9,10,90),(9,11,99),(9,12,108),(10,2,20),(10,3,30),(10,4,40),(10,5,50),(10,6,60),(10,7,70),(10,8,80),(10,9,90),(10,10,100),(10,11,110),(10,12,120),(11,2,22),(11,3,33),(11,4,44),(11,5,55),(11,6,66),(11,7,77),(11,8,88),(11,9,99),(11,10,110),(11,11,121),(11,12,132),(12,2,24),(12,3,36),(12,4,48),(12,5,60),(12,6,72),(12,7,84),(12,8,96),(12,9,108),(12,10,120),(12,11,132),(12,12,144)]"
      ]
     },
     "metadata": {}
    }
   ],
   "metadata": {}
  },
  {
   "cell_type": "code",
   "execution_count": 64,
   "source": [
    "[(v, s) | v <- \"JQKA\", s <- \"CDHS\"]"
   ],
   "outputs": [
    {
     "output_type": "display_data",
     "data": {
      "text/plain": [
       "[('J','C'),('J','D'),('J','H'),('J','S'),('Q','C'),('Q','D'),('Q','H'),('Q','S'),('K','C'),('K','D'),('K','H'),('K','S'),('A','C'),('A','D'),('A','H'),('A','S')]"
      ]
     },
     "metadata": {}
    }
   ],
   "metadata": {}
  },
  {
   "cell_type": "code",
   "execution_count": 65,
   "source": [
    "[ (m, n) | m <- [1.. 100], n <- [1.. 100], m < n, m + n == (m - n) ^ 2]"
   ],
   "outputs": [
    {
     "output_type": "display_data",
     "data": {
      "text/plain": [
       "[(1,3),(3,6),(6,10),(10,15),(15,21),(21,28),(28,36),(36,45),(45,55),(55,66),(66,78),(78,91)]"
      ]
     },
     "metadata": {}
    }
   ],
   "metadata": {}
  },
  {
   "cell_type": "markdown",
   "source": [
    "General format of list comprehensions:\n",
    "\n",
    "`[ output and/or operations | generated lists, condition that output values meet ]`"
   ],
   "metadata": {}
  }
 ],
 "metadata": {
  "kernelspec": {
   "display_name": "Haskell",
   "language": "haskell",
   "name": "haskell"
  },
  "language_info": {
   "codemirror_mode": "ihaskell",
   "file_extension": ".hs",
   "mimetype": "text/x-haskell",
   "name": "haskell",
   "pygments_lexer": "Haskell",
   "version": "8.10.4"
  }
 },
 "nbformat": 4,
 "nbformat_minor": 5
}